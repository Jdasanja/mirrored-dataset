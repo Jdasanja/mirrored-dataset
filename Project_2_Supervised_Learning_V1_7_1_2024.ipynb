{
  "nbformat": 4,
  "nbformat_minor": 0,
  "metadata": {
    "colab": {
      "provenance": [],
      "authorship_tag": "ABX9TyNXSWIMjXKRWV/3kOm9MOIE",
      "include_colab_link": true
    },
    "kernelspec": {
      "name": "python3",
      "display_name": "Python 3"
    },
    "language_info": {
      "name": "python"
    }
  },
  "cells": [
    {
      "cell_type": "markdown",
      "metadata": {
        "id": "view-in-github",
        "colab_type": "text"
      },
      "source": [
        "<a href=\"https://colab.research.google.com/github/Jdasanja/mirrored-dataset/blob/main/Project_2_Supervised_Learning_V1_7_1_2024.ipynb\" target=\"_parent\"><img src=\"https://colab.research.google.com/assets/colab-badge.svg\" alt=\"Open In Colab\"/></a>"
      ]
    },
    {
      "cell_type": "code",
      "execution_count": 1,
      "metadata": {
        "id": "qfL3PdB9hrgA"
      },
      "outputs": [],
      "source": [
        "import pandas as pd\n",
        "import numpy as np\n",
        "import matplotlib.pyplot as plt\n",
        "import scipy as sc\n",
        "import sklearn as sk\n",
        "import seaborn as sns"
      ]
    },
    {
      "cell_type": "code",
      "source": [
        "!pip install pyreadstat"
      ],
      "metadata": {
        "colab": {
          "base_uri": "https://localhost:8080/"
        },
        "id": "RRYBgzVOj_Rw",
        "outputId": "64a031d5-4691-43e7-f3a0-db2d49f0e38d"
      },
      "execution_count": 2,
      "outputs": [
        {
          "output_type": "stream",
          "name": "stdout",
          "text": [
            "Collecting pyreadstat\n",
            "  Downloading pyreadstat-1.2.7-cp310-cp310-manylinux_2_17_x86_64.manylinux2014_x86_64.whl (2.8 MB)\n",
            "\u001b[2K     \u001b[90m━━━━━━━━━━━━━━━━━━━━━━━━━━━━━━━━━━━━━━━━\u001b[0m \u001b[32m2.8/2.8 MB\u001b[0m \u001b[31m5.5 MB/s\u001b[0m eta \u001b[36m0:00:00\u001b[0m\n",
            "\u001b[?25hRequirement already satisfied: pandas>=1.2.0 in /usr/local/lib/python3.10/dist-packages (from pyreadstat) (2.0.3)\n",
            "Requirement already satisfied: python-dateutil>=2.8.2 in /usr/local/lib/python3.10/dist-packages (from pandas>=1.2.0->pyreadstat) (2.8.2)\n",
            "Requirement already satisfied: pytz>=2020.1 in /usr/local/lib/python3.10/dist-packages (from pandas>=1.2.0->pyreadstat) (2023.4)\n",
            "Requirement already satisfied: tzdata>=2022.1 in /usr/local/lib/python3.10/dist-packages (from pandas>=1.2.0->pyreadstat) (2024.1)\n",
            "Requirement already satisfied: numpy>=1.21.0 in /usr/local/lib/python3.10/dist-packages (from pandas>=1.2.0->pyreadstat) (1.25.2)\n",
            "Requirement already satisfied: six>=1.5 in /usr/local/lib/python3.10/dist-packages (from python-dateutil>=2.8.2->pandas>=1.2.0->pyreadstat) (1.16.0)\n",
            "Installing collected packages: pyreadstat\n",
            "Successfully installed pyreadstat-1.2.7\n"
          ]
        }
      ]
    },
    {
      "cell_type": "markdown",
      "source": [
        "**<h1>Step 1: Load Your Data</h1>**"
      ],
      "metadata": {
        "id": "GgFmZmv6ViHk"
      }
    },
    {
      "cell_type": "code",
      "source": [
        "import pandas as pd\n",
        "\n",
        "# Load the dataset\n",
        "url = 'https://github.com/Jdasanja/mirrored-dataset/blob/main/fram_heart_study.csv?raw=true'\n",
        "df = pd.read_csv(url)\n",
        "\n",
        "# Add a unique identifier column\n",
        "df['patient_id'] = range(1, len(df) + 1)\n",
        "\n",
        "# Set 'patient_id' as the index\n",
        "df.set_index('patient_id', inplace=True)\n",
        "\n",
        "print(df.head(5))"
      ],
      "metadata": {
        "colab": {
          "base_uri": "https://localhost:8080/"
        },
        "id": "Mmhc7WlfkC0s",
        "outputId": "b9d51a45-9c6b-4044-9f79-2d577c72ad48"
      },
      "execution_count": 3,
      "outputs": [
        {
          "output_type": "stream",
          "name": "stdout",
          "text": [
            "            male  age  education  currentSmoker  cigsPerDay  BPMeds  \\\n",
            "patient_id                                                            \n",
            "1              1   39        4.0              0         0.0     0.0   \n",
            "2              0   46        2.0              0         0.0     0.0   \n",
            "3              1   48        1.0              1        20.0     0.0   \n",
            "4              0   61        3.0              1        30.0     0.0   \n",
            "5              0   46        3.0              1        23.0     0.0   \n",
            "\n",
            "            prevalentStroke  prevalentHyp  diabetes  totChol  sysBP  diaBP  \\\n",
            "patient_id                                                                   \n",
            "1                         0             0         0    195.0  106.0   70.0   \n",
            "2                         0             0         0    250.0  121.0   81.0   \n",
            "3                         0             0         0    245.0  127.5   80.0   \n",
            "4                         0             1         0    225.0  150.0   95.0   \n",
            "5                         0             0         0    285.0  130.0   84.0   \n",
            "\n",
            "              BMI  heartRate  glucose  TenYearCHD  \n",
            "patient_id                                         \n",
            "1           26.97       80.0     77.0           0  \n",
            "2           28.73       95.0     76.0           0  \n",
            "3           25.34       75.0     70.0           0  \n",
            "4           28.58       65.0    103.0           1  \n",
            "5           23.10       85.0     85.0           0  \n"
          ]
        }
      ]
    },
    {
      "cell_type": "markdown",
      "source": [
        "**<h1>Step 2: (If not already done in Project 1) Prepare your data</h1>**"
      ],
      "metadata": {
        "id": "OhdgYsl7VxXu"
      }
    },
    {
      "cell_type": "code",
      "source": [
        "from sklearn.model_selection import train_test_split\n",
        "# Define the features and target\n",
        "# Drop the unique identifier and the target column from features\n",
        "X = df.drop(columns=['TenYearCHD','age','cigsPerDay','BMI','heartRate','glucose','BPMeds', 'education', 'male','diabetes','currentSmoker','prevalentStroke','prevalentHyp'])\n",
        "\n",
        "# Separate the target\n",
        "y = df['TenYearCHD']\n",
        "\n",
        "# Split the data with stratification\n",
        "X_train, X_test, y_train, y_test = train_test_split(X, y, test_size=0.2, random_state=42, stratify=None)\n",
        "\n",
        "# Now, X_train and X_test contain only relevant feature columns\n",
        "# y_train and y_test contain only the target variable\n"
      ],
      "metadata": {
        "id": "853YaIifkF6F"
      },
      "execution_count": 4,
      "outputs": []
    },
    {
      "cell_type": "code",
      "source": [
        "from sklearn.model_selection import StratifiedShuffleSplit\n",
        "# Stratified Shuffle Split\n",
        "split = StratifiedShuffleSplit(n_splits=1, test_size=0.2, random_state=42)\n",
        "for train_index, test_index in split.split(X, y):\n",
        "    X_train = X.iloc[train_index]\n",
        "    X_test = X.iloc[test_index]\n",
        "    y_train = y.iloc[train_index]\n",
        "    y_test = y.iloc[test_index]\n",
        "\n",
        "# Verify the split\n",
        "print(\"Shapes of the training and testing sets:\")\n",
        "print(X_train.shape, X_test.shape, y_train.shape, y_test.shape)"
      ],
      "metadata": {
        "colab": {
          "base_uri": "https://localhost:8080/"
        },
        "id": "i5aJ-gn-kNIY",
        "outputId": "64728b8c-09ce-41ae-9ed8-129f13dbf6d2"
      },
      "execution_count": 5,
      "outputs": [
        {
          "output_type": "stream",
          "name": "stdout",
          "text": [
            "Shapes of the training and testing sets:\n",
            "(3392, 3) (848, 3) (3392,) (848,)\n"
          ]
        }
      ]
    },
    {
      "cell_type": "code",
      "source": [
        "import numpy as np\n",
        "from sklearn.base import BaseEstimator, TransformerMixin\n",
        "from sklearn.compose import ColumnTransformer\n",
        "from sklearn.preprocessing import StandardScaler\n",
        "from sklearn.naive_bayes import GaussianNB\n",
        "from sklearn.metrics import accuracy_score, f1_score, confusion_matrix, ConfusionMatrixDisplay\n",
        "from imblearn.under_sampling import RandomUnderSampler\n",
        "class LogTransformer(BaseEstimator, TransformerMixin):\n",
        "    def __init__(self, columns):\n",
        "        self.columns = columns\n",
        "\n",
        "    def fit(self, X, y=None):\n",
        "        return self\n",
        "\n",
        "    def transform(self, X):\n",
        "        X_copy = X.copy()\n",
        "        X_copy[self.columns] = np.log1p(X_copy[self.columns])\n",
        "        return X_copy\n",
        "# Define the columns to apply logarithmic transformation\n",
        "log_transform_columns = ['sysBP', 'diaBP']\n",
        "\n",
        "# Define the preprocessing pipeline\n",
        "ct = ColumnTransformer(\n",
        "    transformers=[\n",
        "        (\"log_transform\", LogTransformer(log_transform_columns), log_transform_columns),\n",
        "        (\"scaling\", StandardScaler(), ['totChol', 'sysBP', 'diaBP'])\n",
        "    ],\n",
        "    remainder='drop'  # drop all other columns not specified\n",
        ")\n",
        "\n",
        "# Apply the transformations\n",
        "X_train = ct.fit_transform(X_train)\n",
        "X_test = ct.transform(X_test)"
      ],
      "metadata": {
        "id": "kqXm3p7akP6X"
      },
      "execution_count": 7,
      "outputs": []
    },
    {
      "cell_type": "code",
      "source": [
        "from sklearn.impute import SimpleImputer\n",
        "imp_mean = SimpleImputer(missing_values=np.nan, strategy='mean')\n",
        "imp_mean.fit(X_train)\n",
        "SimpleImputer()\n",
        "# apply to both the testing and training data\n",
        "X_train = imp_mean.transform(X_train)\n",
        "X_test = imp_mean.transform(X_test)"
      ],
      "metadata": {
        "id": "Qg04ZmHfkTYu"
      },
      "execution_count": 8,
      "outputs": []
    },
    {
      "cell_type": "markdown",
      "source": [
        "**<h1>Step 3: Examine your target attribute. </h1>**"
      ],
      "metadata": {
        "id": "KKx12MvAWAZr"
      }
    },
    {
      "cell_type": "code",
      "source": [
        "import matplotlib.pyplot as plt\n",
        "import seaborn as sns\n",
        "\n",
        "# Plot the distribution of the target attribute\n",
        "plt.figure(figsize=(8, 6))\n",
        "sns.countplot(x=y_train)\n",
        "plt.title('Distribution of TenYearCHD in Training Set')\n",
        "plt.xlabel('TenYearCHD')\n",
        "plt.ylabel('Count')\n",
        "plt.show()"
      ],
      "metadata": {
        "colab": {
          "base_uri": "https://localhost:8080/",
          "height": 564
        },
        "id": "LyzW3PpaT0kD",
        "outputId": "41103385-751f-449d-f736-5fa9b27542f9"
      },
      "execution_count": 6,
      "outputs": [
        {
          "output_type": "display_data",
          "data": {
            "text/plain": [
              "<Figure size 800x600 with 1 Axes>"
            ],
            "image/png": "[encoded data removed]"
          },
          "metadata": {}
        }
      ]
    },
    {
      "cell_type": "markdown",
      "source": [
        "**<h2>Distribution analysis of target variable:</h3>**\n",
        "<p> Based off the following histogram, we can assume that the distibution of the 'target' variable is considered \"logarithmic distribution.\"\n",
        "This is inferred because one class significantly dominates another. </p>"
      ],
      "metadata": {
        "id": "Fos9UvzuUii3"
      }
    },
    {
      "cell_type": "markdown",
      "source": [
        "**<h1>Step 4: Selected two of the following supervised learning algorithms:Naïve Bayes & Random Forest</h1>**\n"
      ],
      "metadata": {
        "id": "QV6Xj3sQWGcK"
      }
    },
    {
      "cell_type": "markdown",
      "source": [
        "**<h1>Step 4a: Naïve Bayes</h1>**"
      ],
      "metadata": {
        "id": "7N1I4Lh1WqOk"
      }
    },
    {
      "cell_type": "code",
      "source": [
        "from sklearn.naive_bayes import GaussianNB\n",
        "from sklearn.metrics import accuracy_score, f1_score, confusion_matrix, ConfusionMatrixDisplay,precision_score, recall_score\n",
        "from imblearn.under_sampling import RandomUnderSampler\n",
        "\n",
        "# Apply RandomUnderSampler to balance the classes in the training data\n",
        "rus = RandomUnderSampler(random_state=42)\n",
        "X_resampled, y_resampled = rus.fit_resample(X_train, y_train)\n",
        "\n",
        "# Build a Gaussian Classifier\n",
        "model = GaussianNB()\n",
        "\n",
        "# Model training\n",
        "model.fit(X_resampled, y_resampled)\n",
        "\n",
        "# Predict Output for a single instance\n",
        "predicted = model.predict([X_test[6]])\n",
        "\n",
        "print(\"Actual Value:\", y_test[6])\n",
        "print(\"Predicted Value:\", predicted[0])\n",
        "\n",
        "# Evaluate the model\n",
        "y_pred = model.predict(X_test)\n",
        "accuracy = accuracy_score(y_pred, y_test)\n",
        "f1 = f1_score(y_pred, y_test, average=\"weighted\")\n",
        "precision = precision_score(y_pred, y_test, average=\"weighted\")\n",
        "recall = recall_score(y_pred, y_test, average=\"weighted\")\n",
        "\n",
        "print(\"Accuracy:\", accuracy)\n",
        "print(\"F1 Score:\", f1)\n",
        "print(\"Precision:\", precision)\n",
        "print(\"Recall:\", recall)\n",
        "\n",
        "# Generate and plot confusion matrix\n",
        "cm = confusion_matrix(y_test, y_pred)\n",
        "cmd = ConfusionMatrixDisplay(cm, display_labels=model.classes_)\n",
        "cmd.plot()"
      ],
      "metadata": {
        "colab": {
          "base_uri": "https://localhost:8080/",
          "height": 577
        },
        "id": "4qPJpp9fkWew",
        "outputId": "68eec331-50dc-4866-c36a-0bfa122182e0"
      },
      "execution_count": 9,
      "outputs": [
        {
          "output_type": "stream",
          "name": "stdout",
          "text": [
            "Actual Value: 0\n",
            "Predicted Value: 0\n",
            "Accuracy: 0.7287735849056604\n",
            "F1 Score: 0.705482746583966\n",
            "Precision: 0.6943491988999559\n",
            "Recall: 0.7287735849056604\n"
          ]
        },
        {
          "output_type": "execute_result",
          "data": {
            "text/plain": [
              "<sklearn.metrics._plot.confusion_matrix.ConfusionMatrixDisplay at 0x7e9e92bf1150>"
            ]
          },
          "metadata": {},
          "execution_count": 9
        },
        {
          "output_type": "display_data",
          "data": {
            "text/plain": [
              "<Figure size 640x480 with 2 Axes>"
            ],
            "image/png": "[encoded data removed]"
          },
          "metadata": {}
        }
      ]
    },
    {
      "cell_type": "code",
      "source": [
        "import matplotlib.pyplot as plt\n",
        "import seaborn as sns\n",
        "\n",
        "# Plot the distribution of the target attribute\n",
        "plt.figure(figsize=(8, 6))\n",
        "sns.countplot(x=y_resampled)\n",
        "plt.title('Distribution of TenYearCHD in Training Set')\n",
        "plt.xlabel('TenYearCHD')\n",
        "plt.ylabel('Count')\n",
        "plt.show()"
      ],
      "metadata": {
        "colab": {
          "base_uri": "https://localhost:8080/",
          "height": 564
        },
        "id": "K7IR_iVDYYZY",
        "outputId": "53487533-3a48-4105-a1ca-ec2e97947af9"
      },
      "execution_count": 21,
      "outputs": [
        {
          "output_type": "display_data",
          "data": {
            "text/plain": [
              "<Figure size 800x600 with 1 Axes>"
            ],
            "image/png": "[encoded data removed]"
          },
          "metadata": {}
        }
      ]
    },
    {
      "cell_type": "markdown",
      "source": [
        "**<h2>Distribution analysis of target variable:</h3>**\n",
        "<p> Based off the following histogram, we can assume that the distibution of the 'target' variable is now considered \"uniform distribution.\"\n",
        "This is inferred because both classes in the training set seem more evenly distributed. </p>"
      ],
      "metadata": {
        "id": "3XdVBgoNZmeB"
      }
    },
    {
      "cell_type": "markdown",
      "source": [
        "**<h1>Step 5a: Naïve Bayes - Run with the default parameters using cross-validation on the whole dataset</h1>**"
      ],
      "metadata": {
        "id": "4cmHBPZXWaZb"
      }
    },
    {
      "cell_type": "code",
      "source": [
        "from sklearn.model_selection import cross_val_score\n",
        "model = GaussianNB()\n",
        "\n",
        "#5-fold cross validation\n",
        "cv_scores_all = cross_val_score(model, X_resampled, y_resampled, cv=5)\n",
        "\n",
        "print(\"cv_scores:\\n{}\".format(cv_scores_all))\n",
        "print(\"cv_scores mean:\\n{}\".format(np.mean(cv_scores_all)))"
      ],
      "metadata": {
        "colab": {
          "base_uri": "https://localhost:8080/"
        },
        "id": "QLHyHvCtk1LD",
        "outputId": "c919bde6-cc5f-4709-c941-59e5f0a0fe3f"
      },
      "execution_count": 12,
      "outputs": [
        {
          "output_type": "stream",
          "name": "stdout",
          "text": [
            "cv_scores:\n",
            "[0.60679612 0.55825243 0.60194175 0.59708738 0.61650485]\n",
            "cv_scores mean:\n",
            "0.596116504854369\n"
          ]
        }
      ]
    },
    {
      "cell_type": "code",
      "source": [
        "from sklearn.model_selection import cross_val_predict\n",
        "from sklearn.metrics import precision_score, recall_score, f1_score\n",
        "\n",
        "# Perform cross-validation and get predictions\n",
        "y_pred = cross_val_predict(model, X_resampled, y_resampled, cv=5)\n",
        "\n",
        "# Calculate and print metrics\n",
        "precision = precision_score(y_resampled, y_pred, average='weighted')\n",
        "recall = recall_score(y_resampled, y_pred, average='weighted')\n",
        "f1 = f1_score(y_resampled, y_pred, average='weighted')\n",
        "\n",
        "print(\"Precision:\", precision)\n",
        "print(\"Recall:\", recall)\n",
        "print(\"F1 Score:\", f1)"
      ],
      "metadata": {
        "colab": {
          "base_uri": "https://localhost:8080/"
        },
        "id": "AiENd5jLk2g3",
        "outputId": "f7e29ae2-61d2-4255-fea0-da861e88214a"
      },
      "execution_count": 13,
      "outputs": [
        {
          "output_type": "stream",
          "name": "stdout",
          "text": [
            "Precision: 0.6078705172960964\n",
            "Recall: 0.596116504854369\n",
            "F1 Score: 0.5848062015503875\n"
          ]
        }
      ]
    },
    {
      "cell_type": "markdown",
      "source": [
        "**<h1>Step 4b: Random Forrest</h1>**"
      ],
      "metadata": {
        "id": "qWyMrcApW0pB"
      }
    },
    {
      "cell_type": "code",
      "source": [
        "from sklearn.ensemble import RandomForestClassifier\n",
        "from sklearn.metrics import accuracy_score, f1_score, confusion_matrix, ConfusionMatrixDisplay,precision_score, recall_score\n",
        "import matplotlib.pyplot as plt\n",
        "\n",
        "# Create a Random Forest classifier\n",
        "clf = RandomForestClassifier(n_estimators=100, random_state=42,max_depth=10)\n",
        "\n",
        "# Training the model on the training dataset\n",
        "clf.fit(X_resampled, y_resampled)\n",
        "\n",
        "# Performing predictions on the test dataset\n",
        "y_pred = clf.predict(X_test)\n",
        "\n",
        "# Calculate accuracy and F1 score\n",
        "accuracy = accuracy_score(y_test, y_pred)\n",
        "f1 = f1_score(y_test, y_pred, average='weighted')\n",
        "precision = precision_score(y_pred, y_test, average=\"weighted\")\n",
        "recall = recall_score(y_pred, y_test, average=\"weighted\")\n",
        "\n",
        "# Print accuracy and F1 score\n",
        "print(f\"Accuracy of the model: {accuracy}\")\n",
        "print(f\"F1 Score of the model: {f1}\")\n",
        "print(\"Precision:\", precision)\n",
        "print(\"Recall:\", recall)\n",
        "\n",
        "\n",
        "# Generate and plot the confusion matrix\n",
        "cm = confusion_matrix(y_test, y_pred)\n",
        "cmd = ConfusionMatrixDisplay(cm, display_labels=clf.classes_)\n",
        "cmd.plot()\n",
        "plt.show()"
      ],
      "metadata": {
        "colab": {
          "base_uri": "https://localhost:8080/",
          "height": 522
        },
        "id": "KvMjgQM8kbuN",
        "outputId": "79bf9f98-c4c0-467a-a2d6-deb9f85d49d5"
      },
      "execution_count": 14,
      "outputs": [
        {
          "output_type": "stream",
          "name": "stdout",
          "text": [
            "Accuracy of the model: 0.5872641509433962\n",
            "F1 Score of the model: 0.6453347144670527\n",
            "Precision: 0.5777044716804152\n",
            "Recall: 0.5872641509433962\n"
          ]
        },
        {
          "output_type": "display_data",
          "data": {
            "text/plain": [
              "<Figure size 640x480 with 2 Axes>"
            ],
            "image/png": "[encoded data removed]"
          },
          "metadata": {}
        }
      ]
    },
    {
      "cell_type": "markdown",
      "source": [
        "**<h1>Step 5b: Random Forrest - Run with the default parameters using cross-validation on the whole dataset</h1>**"
      ],
      "metadata": {
        "id": "7RGXSmCWXCRi"
      }
    },
    {
      "cell_type": "code",
      "source": [
        "from sklearn.model_selection import cross_val_score\n",
        "\n",
        "clf = RandomForestClassifier(n_estimators=100, random_state=42,max_depth=10)\n",
        "\n",
        "#5-fold cross validation\n",
        "cv_scores_all = cross_val_score(clf, X_resampled, y_resampled, cv=5)\n",
        "\n",
        "print(\"cv_scores:\\n{}\".format(cv_scores_all))\n",
        "print(\"cv_scores mean:\\n{}\".format(np.mean(cv_scores_all)))"
      ],
      "metadata": {
        "colab": {
          "base_uri": "https://localhost:8080/"
        },
        "id": "L0qC3VeZkh7F",
        "outputId": "c9401b92-e714-4fcb-de3f-4d41cce87caa"
      },
      "execution_count": 15,
      "outputs": [
        {
          "output_type": "stream",
          "name": "stdout",
          "text": [
            "cv_scores:\n",
            "[0.62621359 0.57281553 0.58737864 0.54854369 0.59708738]\n",
            "cv_scores mean:\n",
            "0.5864077669902913\n"
          ]
        }
      ]
    },
    {
      "cell_type": "code",
      "source": [
        "from sklearn.model_selection import cross_val_predict\n",
        "from sklearn.metrics import precision_score, recall_score, f1_score\n",
        "\n",
        "# Perform cross-validation and get predictions\n",
        "y_pred = cross_val_predict(clf, X_resampled, y_resampled, cv=5)\n",
        "\n",
        "# Calculate and print metrics\n",
        "precision = precision_score(y_resampled, y_pred, average='weighted')\n",
        "recall = recall_score(y_resampled, y_pred, average='weighted')\n",
        "f1 = f1_score(y_resampled, y_pred, average='weighted')\n",
        "\n",
        "print(\"Precision:\", precision)\n",
        "print(\"Recall:\", recall)\n",
        "print(\"F1 Score:\", f1)\n"
      ],
      "metadata": {
        "colab": {
          "base_uri": "https://localhost:8080/"
        },
        "id": "IZaQodTWknFC",
        "outputId": "51d39613-88b3-4a18-ed3b-066600c0e7ae"
      },
      "execution_count": 16,
      "outputs": [
        {
          "output_type": "stream",
          "name": "stdout",
          "text": [
            "Precision: 0.5867019767331884\n",
            "Recall: 0.5864077669902913\n",
            "F1 Score: 0.586056603773585\n"
          ]
        }
      ]
    },
    {
      "cell_type": "markdown",
      "source": [
        "**<h1>Step 5c: Random Forrest - (Where possible) adjust 2-3 parameters for each model using grid search</h1>**"
      ],
      "metadata": {
        "id": "1Dl18C6uXUAB"
      }
    },
    {
      "cell_type": "code",
      "source": [
        "from sklearn.ensemble import RandomForestClassifier\n",
        "from sklearn.model_selection import GridSearchCV\n",
        "\n",
        "# Define the parameters to tune, based on the actual parameter result\n",
        "forest_params = {\n",
        "    'bootstrap': [True],\n",
        "    'n_estimators': [100, 200, 300],\n",
        "    'max_depth': [None, 10, 20, 30],\n",
        "    'min_samples_split': [2, 5, 10],\n",
        "    'min_samples_leaf': [1, 2, 4],\n",
        "    'criterion': ['gini'],\n",
        "    'max_features': ['sqrt'],\n",
        "    'ccp_alpha': [0.0],\n",
        "    'class_weight': [None],\n",
        "    'max_leaf_nodes': [None],\n",
        "    'max_samples': [None],\n",
        "    'min_impurity_decrease': [0.0],\n",
        "    'min_weight_fraction_leaf': [0.0],\n",
        "    'n_jobs': [None],\n",
        "    'oob_score': [False],\n",
        "    'random_state': [None],\n",
        "    'verbose': [0],\n",
        "    'warm_start': [False]\n",
        "}\n",
        "\n",
        "# Initialize the RandomForestClassifier\n",
        "rfc = RandomForestClassifier()\n",
        "\n",
        "# Initialize GridSearchCV with the classifier and parameters\n",
        "clf = GridSearchCV(rfc, forest_params, cv=10, scoring='precision')\n",
        "\n",
        "# Assume X_train and y_train are already defined\n",
        "# Fit the model\n",
        "clf.fit(X_resampled, y_resampled)\n",
        "\n",
        "# Get the best parameters and the best score\n",
        "best_params = clf.best_params_\n",
        "best_score = clf.best_score_\n",
        "\n",
        "print(\"Best parameters found: \", best_params)\n",
        "print(\"Best precision score: \", best_score)\n",
        "\n",
        "# Retrieve and display the worst parameters and their score\n",
        "results = clf.cv_results_\n",
        "worst_index = results['mean_test_score'].argmin()\n",
        "worst_params = results['params'][worst_index]\n",
        "worst_score = results['mean_test_score'][worst_index]\n",
        "\n",
        "print(\"Worst parameters found: \", worst_params)\n",
        "print(\"Worst precision score: \", worst_score)\n"
      ],
      "metadata": {
        "colab": {
          "base_uri": "https://localhost:8080/"
        },
        "id": "oGMm3tojkskT",
        "outputId": "e533ec51-1218-471f-8ba7-811202864d81"
      },
      "execution_count": 17,
      "outputs": [
        {
          "output_type": "stream",
          "name": "stdout",
          "text": [
            "Best parameters found:  {'bootstrap': True, 'ccp_alpha': 0.0, 'class_weight': None, 'criterion': 'gini', 'max_depth': 10, 'max_features': 'sqrt', 'max_leaf_nodes': None, 'max_samples': None, 'min_impurity_decrease': 0.0, 'min_samples_leaf': 1, 'min_samples_split': 5, 'min_weight_fraction_leaf': 0.0, 'n_estimators': 300, 'n_jobs': None, 'oob_score': False, 'random_state': None, 'verbose': 0, 'warm_start': False}\n",
            "Best precision score:  0.6151634288071833\n",
            "Worst parameters found:  {'bootstrap': True, 'ccp_alpha': 0.0, 'class_weight': None, 'criterion': 'gini', 'max_depth': 20, 'max_features': 'sqrt', 'max_leaf_nodes': None, 'max_samples': None, 'min_impurity_decrease': 0.0, 'min_samples_leaf': 1, 'min_samples_split': 5, 'min_weight_fraction_leaf': 0.0, 'n_estimators': 300, 'n_jobs': None, 'oob_score': False, 'random_state': None, 'verbose': 0, 'warm_start': False}\n",
            "Worst precision score:  0.5704811253817894\n"
          ]
        }
      ]
    },
    {
      "cell_type": "code",
      "source": [
        "from sklearn.ensemble import RandomForestClassifier\n",
        "from sklearn.metrics import accuracy_score, f1_score, confusion_matrix, ConfusionMatrixDisplay,precision_score, recall_score\n",
        "import matplotlib.pyplot as plt\n",
        "\n",
        "# Create a Random Forest classifier\n",
        "clf = RandomForestClassifier(n_estimators=100, random_state=42,max_depth=10)\n",
        "\n",
        "# Training the model on the training dataset\n",
        "clf.fit(X_resampled, y_resampled)\n",
        "\n",
        "# Performing predictions on the test dataset\n",
        "y_pred = clf.predict(X_test)\n",
        "#y_pred = cross_val_predict(clf, X_resampled, y_resampled, cv=5)\n",
        "# Calculate accuracy and F1 score\n",
        "accuracy = accuracy_score(y_test, y_pred)\n",
        "f1 = f1_score(y_test, y_pred, average='weighted')\n",
        "precision = precision_score(y_pred, y_test, average=\"weighted\")\n",
        "recall = recall_score(y_pred, y_test, average=\"weighted\")\n",
        "\n",
        "# Print accuracy and F1 score\n",
        "print(f\"Accuracy of the model: {accuracy}\")\n",
        "print(f\"F1 Score of the model: {f1}\")\n",
        "print(\"Precision:\", precision)\n",
        "print(\"Recall:\", recall)\n",
        "\n",
        "\n",
        "# Generate and plot the confusion matrix\n",
        "cm = confusion_matrix(y_test, y_pred)\n",
        "cmd = ConfusionMatrixDisplay(cm, display_labels=clf.classes_)\n",
        "cmd.plot()\n",
        "plt.show()"
      ],
      "metadata": {
        "colab": {
          "base_uri": "https://localhost:8080/",
          "height": 522
        },
        "id": "KpncLxXrnwPg",
        "outputId": "d555843c-fc26-49f3-8dda-b4766f6ebf5a"
      },
      "execution_count": 18,
      "outputs": [
        {
          "output_type": "stream",
          "name": "stdout",
          "text": [
            "Accuracy of the model: 0.5872641509433962\n",
            "F1 Score of the model: 0.6453347144670527\n",
            "Precision: 0.5777044716804152\n",
            "Recall: 0.5872641509433962\n"
          ]
        },
        {
          "output_type": "display_data",
          "data": {
            "text/plain": [
              "<Figure size 640x480 with 2 Axes>"
            ],
            "image/png": "[encoded data removed]"
          },
          "metadata": {}
        }
      ]
    },
    {
      "cell_type": "markdown",
      "source": [
        "**<h1>Step 5d: Naïve Bayes - (Where possible) adjust 2-3 parameters for each model using grid search</h1>**"
      ],
      "metadata": {
        "id": "qClR5tF2Xmi4"
      }
    },
    {
      "cell_type": "code",
      "source": [
        "from sklearn.naive_bayes import GaussianNB\n",
        "from sklearn.metrics import accuracy_score, f1_score, confusion_matrix, ConfusionMatrixDisplay,precision_score, recall_score\n",
        "from imblearn.under_sampling import RandomUnderSampler\n",
        "\n",
        "# Define the estimator\n",
        "estimatortwo = GaussianNB()\n",
        "\n",
        "# Get the parameters of the estimator\n",
        "paramstwo = estimatortwo.get_params()\n",
        "\n",
        "# Print the parameters\n",
        "print(paramstwo)"
      ],
      "metadata": {
        "colab": {
          "base_uri": "https://localhost:8080/"
        },
        "id": "JunjC3SLq8mC",
        "outputId": "d912fd8f-0e8f-4436-da52-2c2fe202e416"
      },
      "execution_count": 19,
      "outputs": [
        {
          "output_type": "stream",
          "name": "stdout",
          "text": [
            "{'priors': None, 'var_smoothing': 1e-09}\n"
          ]
        }
      ]
    },
    {
      "cell_type": "code",
      "source": [
        "from sklearn.naive_bayes import GaussianNB\n",
        "from sklearn.model_selection import GridSearchCV\n",
        "from sklearn.metrics import precision_score\n",
        "from imblearn.under_sampling import RandomUnderSampler\n",
        "\n",
        "# Define the parameters to tune based on the actual parameter result\n",
        "nb_params = {\n",
        "    'priors': [None],\n",
        "    'var_smoothing': [1e-09, 1e-08, 1e-10, 1e-07]\n",
        "}\n",
        "\n",
        "# Initialize the GaussianNB classifier\n",
        "estimator = GaussianNB()\n",
        "\n",
        "# Initialize GridSearchCV with the classifier and parameters\n",
        "clf = GridSearchCV(estimator, nb_params, cv=10, scoring='precision')\n",
        "\n",
        "# Assume X_resampled and y_resampled are already defined\n",
        "# Fit the model\n",
        "clf.fit(X_resampled, y_resampled)\n",
        "\n",
        "# Get the best parameters and the best score\n",
        "best_params = clf.best_params_\n",
        "best_score = clf.best_score_\n",
        "\n",
        "print(\"Best parameters found: \", best_params)\n",
        "print(\"Best precision score: \", best_score)\n",
        "\n",
        "# Retrieve and display the worst parameters and their score\n",
        "results = clf.cv_results_\n",
        "worst_index = results['mean_test_score'].argmin()\n",
        "worst_params = results['params'][worst_index]\n",
        "worst_score = results['mean_test_score'][worst_index]\n",
        "\n",
        "print(\"Worst parameters found: \", worst_params)\n",
        "print(\"Worst precision score: \", worst_score)"
      ],
      "metadata": {
        "colab": {
          "base_uri": "https://localhost:8080/"
        },
        "id": "liXQj5M6rXJI",
        "outputId": "106fdbef-9a0b-41f2-a716-cc6978175bbe"
      },
      "execution_count": 20,
      "outputs": [
        {
          "output_type": "stream",
          "name": "stdout",
          "text": [
            "Best parameters found:  {'priors': None, 'var_smoothing': 1e-09}\n",
            "Best precision score:  0.643305721497526\n",
            "Worst parameters found:  {'priors': None, 'var_smoothing': 1e-09}\n",
            "Worst precision score:  0.643305721497526\n"
          ]
        }
      ]
    },
    {
      "cell_type": "markdown",
      "source": [
        "\n",
        "**<h3>Naïve Bayes: Model Parameter Adjustment Summary:</h3>**\n",
        "    <p>\n",
        "        Based on the provided results, it is evident that parameter adjustment cannot be effectively performed. The grid search identified the best parameters as <code>{'priors': None, 'var_smoothing': 1e-09}</code> with a best precision score of 0.643305721497526. However, these same parameters were also identified as the worst, yielding an identical precision score of 0.643305721497526. This indicates that there is no variability in performance across different parameter settings, suggesting that either the parameter grid is too narrow, the model is insensitive to the parameter changes, or the data is not sufficiently varied to reflect differences in model performance. Therefore, further tuning or a more diverse parameter grid is necessary to explore potential improvements.\n",
        "    </p>\n"
      ],
      "metadata": {
        "id": "w4SHpUolX4NS"
      }
    }
  ]
}