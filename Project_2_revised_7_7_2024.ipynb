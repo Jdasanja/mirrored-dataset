{
  "nbformat": 4,
  "nbformat_minor": 0,
  "metadata": {
    "colab": {
      "provenance": [],
      "machine_shape": "hm",
      "gpuType": "V28",
      "authorship_tag": "ABX9TyNVs+oiYq56XZpTAfem1E3J",
      "include_colab_link": true
    },
    "kernelspec": {
      "name": "python3",
      "display_name": "Python 3"
    },
    "language_info": {
      "name": "python"
    },
    "accelerator": "TPU"
  },
  "cells": [
    {
      "cell_type": "markdown",
      "metadata": {
        "id": "view-in-github",
        "colab_type": "text"
      },
      "source": [
        "<a href=\"https://colab.research.google.com/github/Jdasanja/mirrored-dataset/blob/main/Project_2_revised_7_7_2024.ipynb\" target=\"_parent\"><img src=\"https://colab.research.google.com/assets/colab-badge.svg\" alt=\"Open In Colab\"/></a>"
      ]
    },
    {
      "cell_type": "code",
      "execution_count": 2,
      "metadata": {
        "id": "WBs9hG__n4em"
      },
      "outputs": [],
      "source": [
        "import pandas as pd\n",
        "import numpy as np\n",
        "import matplotlib.pyplot as plt\n",
        "import scipy as sc\n",
        "import sklearn as sk\n",
        "import seaborn as sns"
      ]
    },
    {
      "cell_type": "code",
      "source": [
        "!pip install pyreadstat"
      ],
      "metadata": {
        "colab": {
          "base_uri": "https://localhost:8080/"
        },
        "id": "MABR40F0zSR5",
        "outputId": "b053dbbe-87fd-402c-8203-62d46468ac53"
      },
      "execution_count": 3,
      "outputs": [
        {
          "output_type": "stream",
          "name": "stdout",
          "text": [
            "Requirement already satisfied: pyreadstat in /usr/local/lib/python3.10/dist-packages (1.2.7)\n",
            "Requirement already satisfied: pandas>=1.2.0 in /usr/local/lib/python3.10/dist-packages (from pyreadstat) (2.0.3)\n",
            "Requirement already satisfied: python-dateutil>=2.8.2 in /usr/local/lib/python3.10/dist-packages (from pandas>=1.2.0->pyreadstat) (2.9.0.post0)\n",
            "Requirement already satisfied: pytz>=2020.1 in /usr/local/lib/python3.10/dist-packages (from pandas>=1.2.0->pyreadstat) (2024.1)\n",
            "Requirement already satisfied: tzdata>=2022.1 in /usr/local/lib/python3.10/dist-packages (from pandas>=1.2.0->pyreadstat) (2024.1)\n",
            "Requirement already satisfied: numpy>=1.21.0 in /usr/local/lib/python3.10/dist-packages (from pandas>=1.2.0->pyreadstat) (1.25.2)\n",
            "Requirement already satisfied: six>=1.5 in /usr/local/lib/python3.10/dist-packages (from python-dateutil>=2.8.2->pandas>=1.2.0->pyreadstat) (1.16.0)\n"
          ]
        }
      ]
    },
    {
      "cell_type": "markdown",
      "source": [
        "Step 1: Load your Data"
      ],
      "metadata": {
        "id": "d96Dju2N4MCQ"
      }
    },
    {
      "cell_type": "code",
      "source": [
        "import pandas as pd\n",
        "\n",
        "# Load the dataset\n",
        "url = 'https://github.com/Jdasanja/mirrored-dataset/blob/main/fram_heart_study.csv?raw=true'\n",
        "df = pd.read_csv(url)\n",
        "\n",
        "# Add a unique identifier column\n",
        "df['patient_id'] = range(1, len(df) + 1)\n",
        "\n",
        "# Set 'patient_id' as the index\n",
        "df.set_index('patient_id', inplace=True)\n",
        "\n",
        "print(df.head(5))"
      ],
      "metadata": {
        "colab": {
          "base_uri": "https://localhost:8080/"
        },
        "id": "0p98ofM3zzPK",
        "outputId": "95725c19-b1ff-4d0b-a09a-9e58f0aba29a"
      },
      "execution_count": 4,
      "outputs": [
        {
          "output_type": "stream",
          "name": "stdout",
          "text": [
            "            male  age  education  currentSmoker  cigsPerDay  BPMeds  \\\n",
            "patient_id                                                            \n",
            "1              1   39        4.0              0         0.0     0.0   \n",
            "2              0   46        2.0              0         0.0     0.0   \n",
            "3              1   48        1.0              1        20.0     0.0   \n",
            "4              0   61        3.0              1        30.0     0.0   \n",
            "5              0   46        3.0              1        23.0     0.0   \n",
            "\n",
            "            prevalentStroke  prevalentHyp  diabetes  totChol  sysBP  diaBP  \\\n",
            "patient_id                                                                   \n",
            "1                         0             0         0    195.0  106.0   70.0   \n",
            "2                         0             0         0    250.0  121.0   81.0   \n",
            "3                         0             0         0    245.0  127.5   80.0   \n",
            "4                         0             1         0    225.0  150.0   95.0   \n",
            "5                         0             0         0    285.0  130.0   84.0   \n",
            "\n",
            "              BMI  heartRate  glucose  TenYearCHD  \n",
            "patient_id                                         \n",
            "1           26.97       80.0     77.0           0  \n",
            "2           28.73       95.0     76.0           0  \n",
            "3           25.34       75.0     70.0           0  \n",
            "4           28.58       65.0    103.0           1  \n",
            "5           23.10       85.0     85.0           0  \n"
          ]
        }
      ]
    },
    {
      "cell_type": "markdown",
      "source": [
        "Step 2: (If not already done in Project 1) Prepare your data"
      ],
      "metadata": {
        "id": "kMVfcXns4Ygs"
      }
    },
    {
      "cell_type": "code",
      "source": [
        "from sklearn.utils import resample\n",
        "target_column = 'TenYearCHD'\n",
        "# Upsampling the minority class\n",
        "data_majority = df[df[target_column] == 0]\n",
        "data_minority = df[df[target_column] == 1]\n",
        "data_minority_upsampled = resample(data_minority, replace=True, n_samples=len(data_majority), random_state=123)\n",
        "df_upsampled = pd.concat([data_majority, data_minority_upsampled])"
      ],
      "metadata": {
        "id": "VE-peLYJz312"
      },
      "execution_count": 5,
      "outputs": []
    },
    {
      "cell_type": "code",
      "source": [
        "from sklearn.model_selection import train_test_split\n",
        "# Define the features and target\n",
        "# Drop the unique identifier and the target column from features\n",
        "X = df_upsampled.drop(columns=['TenYearCHD'])\n",
        "\n",
        "# Separate the target\n",
        "y = df_upsampled['TenYearCHD']\n",
        "\n",
        "# Split the data with stratification\n",
        "X_train, X_test, y_train, y_test = train_test_split(X, y, test_size=0.2, random_state=42, stratify=y)\n",
        "\n",
        "# Now, X_train and X_test contain only relevant feature columns\n",
        "# y_train and y_test contain only the target variable"
      ],
      "metadata": {
        "id": "oY2g-77b0NzB"
      },
      "execution_count": 6,
      "outputs": []
    },
    {
      "cell_type": "code",
      "source": [
        "from sklearn.impute import SimpleImputer\n",
        "\n",
        "# Handling missing values using imputation strategies\n",
        "mean_imputer = SimpleImputer(strategy='mean')\n",
        "mean_cols = ['heartRate']\n",
        "X_train[mean_cols] = mean_imputer.fit_transform(X_train[mean_cols])\n",
        "X_test[mean_cols] = mean_imputer.transform(X_test[mean_cols])\n",
        "\n",
        "median_imputer = SimpleImputer(strategy='median')\n",
        "median_cols = ['education', 'cigsPerDay', 'BPMeds', 'totChol', 'BMI', 'glucose']\n",
        "X_train[median_cols] = median_imputer.fit_transform(X_train[median_cols])\n",
        "X_test[median_cols] = median_imputer.transform(X_test[median_cols])\n",
        "\n",
        "# Verify no missing values are present\n",
        "print(X_train.isnull().sum())\n",
        "print(X_test.isnull().sum())\n",
        "\n",
        "# Handling outliers using the IQR method\n",
        "def handle_outliers_with_IQR(X_train, column):\n",
        "    Q1 = X_train[column].quantile(0.25)\n",
        "    Q3 = X_train[column].quantile(0.75)\n",
        "    IQR = Q3 - Q1\n",
        "    lower_bound = Q1 - 1.5 * IQR\n",
        "    upper_bound = Q3 + 1.5 * IQR\n",
        "    X_train[column] = X_train[column].clip(lower=lower_bound, upper=upper_bound)\n",
        "\n",
        "continuous_cols = ['age', 'cigsPerDay', 'totChol', 'sysBP', 'diaBP', 'BMI', 'heartRate', 'glucose']\n",
        "for col in continuous_cols:\n",
        "    handle_outliers_with_IQR(X_train, col)\n",
        "\n",
        "# Handling outliers using the IQR method\n",
        "def handle_outliers_with_IQR(X_test, column):\n",
        "    Q1 = X_test[column].quantile(0.25)\n",
        "    Q3 = X_test[column].quantile(0.75)\n",
        "    IQR = Q3 - Q1\n",
        "    lower_bound = Q1 - 1.5 * IQR\n",
        "    upper_bound = Q3 + 1.5 * IQR\n",
        "    X_test[column] = X_test[column].clip(lower=lower_bound, upper=upper_bound)\n",
        "\n",
        "continuous_cols = ['age', 'cigsPerDay', 'totChol', 'sysBP', 'diaBP', 'BMI', 'heartRate', 'glucose']\n",
        "for col in continuous_cols:\n",
        "    handle_outliers_with_IQR(X_test, col)"
      ],
      "metadata": {
        "colab": {
          "base_uri": "https://localhost:8080/"
        },
        "id": "u0hd6lj00RyX",
        "outputId": "e66720bc-6ce3-4dfd-abe7-a9061e143c06"
      },
      "execution_count": 7,
      "outputs": [
        {
          "output_type": "stream",
          "name": "stdout",
          "text": [
            "male               0\n",
            "age                0\n",
            "education          0\n",
            "currentSmoker      0\n",
            "cigsPerDay         0\n",
            "BPMeds             0\n",
            "prevalentStroke    0\n",
            "prevalentHyp       0\n",
            "diabetes           0\n",
            "totChol            0\n",
            "sysBP              0\n",
            "diaBP              0\n",
            "BMI                0\n",
            "heartRate          0\n",
            "glucose            0\n",
            "dtype: int64\n",
            "male               0\n",
            "age                0\n",
            "education          0\n",
            "currentSmoker      0\n",
            "cigsPerDay         0\n",
            "BPMeds             0\n",
            "prevalentStroke    0\n",
            "prevalentHyp       0\n",
            "diabetes           0\n",
            "totChol            0\n",
            "sysBP              0\n",
            "diaBP              0\n",
            "BMI                0\n",
            "heartRate          0\n",
            "glucose            0\n",
            "dtype: int64\n"
          ]
        }
      ]
    },
    {
      "cell_type": "markdown",
      "source": [
        "Step 3: Examine your target attribute."
      ],
      "metadata": {
        "id": "spFNxoc_4g2k"
      }
    },
    {
      "cell_type": "code",
      "source": [
        "# Checking if the data is imbalanced\n",
        "\n",
        "import matplotlib.pyplot as plt\n",
        "import seaborn as sns\n",
        "\n",
        "# Plot the distribution of the target attribute\n",
        "plt.figure(figsize=(8, 6))\n",
        "sns.countplot(x=y_train)\n",
        "plt.title('Distribution of TenYearCHD in Training Set')\n",
        "plt.xlabel('TenYearCHD')\n",
        "plt.ylabel('Count')\n",
        "plt.show()"
      ],
      "metadata": {
        "colab": {
          "base_uri": "https://localhost:8080/",
          "height": 564
        },
        "id": "aPyltBcz05Sr",
        "outputId": "13d7504b-1ed1-48fa-c2b1-f71e9421da7d"
      },
      "execution_count": 8,
      "outputs": [
        {
          "output_type": "display_data",
          "data": {
            "text/plain": [
              "<Figure size 800x600 with 1 Axes>"
            ],
            "image/png": "[encoded data removed]"
          },
          "metadata": {}
        }
      ]
    },
    {
      "cell_type": "markdown",
      "source": [
        "Step 4: Selected two of the following supervised learning algorithms, ideally one from the first half of the list and one from the second half of the list"
      ],
      "metadata": {
        "id": "hto4QYX04p4f"
      }
    },
    {
      "cell_type": "code",
      "source": [
        "import numpy as np\n",
        "from sklearn.base import BaseEstimator, TransformerMixin\n",
        "from sklearn.compose import ColumnTransformer\n",
        "from sklearn.preprocessing import StandardScaler\n",
        "from sklearn.naive_bayes import GaussianNB\n",
        "from sklearn.metrics import accuracy_score, f1_score, confusion_matrix, ConfusionMatrixDisplay\n",
        "\n",
        "from sklearn.preprocessing import OneHotEncoder\n",
        "\n",
        "class LogTransformer(BaseEstimator, TransformerMixin):\n",
        "    def __init__(self, columns):\n",
        "        self.columns = columns\n",
        "\n",
        "    def fit(self, X, y=None):\n",
        "        return self\n",
        "\n",
        "    def transform(self, X):\n",
        "        X_copy = X.copy()\n",
        "        X_copy[self.columns] = np.log1p(X_copy[self.columns])\n",
        "        return X_copy\n",
        "# Define the columns to apply logarithmic transformation\n",
        "log_transform_columns = ['sysBP', 'diaBP']\n",
        "\n",
        "# Define the preprocessing pipeline\n",
        "ct = ColumnTransformer(\n",
        "    transformers=[\n",
        "        (\"log_transform\", LogTransformer(log_transform_columns), log_transform_columns),\n",
        "        (\"scaling\", StandardScaler(), ['age','cigsPerDay','totChol','sysBP','diaBP','BMI','heartRate','glucose']),\n",
        "        (\"onehot\", OneHotEncoder(sparse_output=False), ['BPMeds', 'education', 'male','diabetes','currentSmoker','prevalentStroke','prevalentHyp'])\n",
        "    ],\n",
        "    remainder='drop'  # drop all other columns not specified\n",
        ")\n",
        "\n",
        "# Apply the transformations\n",
        "X_train = ct.fit_transform(X_train)\n",
        "X_test = ct.transform(X_test)"
      ],
      "metadata": {
        "id": "rcTyXUjX0_pX"
      },
      "execution_count": 9,
      "outputs": []
    },
    {
      "cell_type": "code",
      "source": [
        "!pip install imblearn"
      ],
      "metadata": {
        "colab": {
          "base_uri": "https://localhost:8080/"
        },
        "id": "rV0dkAGWT5Ua",
        "outputId": "b10680b2-f1ea-491f-ed31-51ef412b2e5d"
      },
      "execution_count": 10,
      "outputs": [
        {
          "output_type": "stream",
          "name": "stdout",
          "text": [
            "Requirement already satisfied: imblearn in /usr/local/lib/python3.10/dist-packages (0.0)\n",
            "Requirement already satisfied: imbalanced-learn in /usr/local/lib/python3.10/dist-packages (from imblearn) (0.12.3)\n",
            "Requirement already satisfied: numpy>=1.17.3 in /usr/local/lib/python3.10/dist-packages (from imbalanced-learn->imblearn) (1.25.2)\n",
            "Requirement already satisfied: scipy>=1.5.0 in /usr/local/lib/python3.10/dist-packages (from imbalanced-learn->imblearn) (1.11.4)\n",
            "Requirement already satisfied: scikit-learn>=1.0.2 in /usr/local/lib/python3.10/dist-packages (from imbalanced-learn->imblearn) (1.2.2)\n",
            "Requirement already satisfied: joblib>=1.1.1 in /usr/local/lib/python3.10/dist-packages (from imbalanced-learn->imblearn) (1.4.2)\n",
            "Requirement already satisfied: threadpoolctl>=2.0.0 in /usr/local/lib/python3.10/dist-packages (from imbalanced-learn->imblearn) (3.5.0)\n"
          ]
        }
      ]
    },
    {
      "cell_type": "code",
      "source": [
        "from sklearn.naive_bayes import GaussianNB\n",
        "from sklearn.metrics import accuracy_score, f1_score, confusion_matrix, ConfusionMatrixDisplay,precision_score, recall_score\n",
        "from imblearn.under_sampling import RandomUnderSampler\n",
        "\n",
        "# Build a Gaussian Classifier\n",
        "model = GaussianNB()\n",
        "\n",
        "# Model training\n",
        "model.fit(X_train, y_train)\n",
        "\n",
        "\n",
        "# Evaluate the model\n",
        "y_pred = model.predict(X_test)\n",
        "accuracy = accuracy_score(y_pred, y_test)\n",
        "f1 = f1_score(y_pred, y_test, average=\"weighted\")\n",
        "precision = precision_score(y_pred, y_test, average=\"weighted\")\n",
        "recall = recall_score(y_pred, y_test, average=\"weighted\")\n",
        "\n",
        "print(\"Accuracy:\", accuracy)\n",
        "print(\"F1 Score:\", f1)\n",
        "print(\"Precision:\", precision)\n",
        "print(\"Recall:\", recall)\n",
        "\n",
        "# Generate and plot confusion matrix\n",
        "cm = confusion_matrix(y_test, y_pred)\n",
        "cmd = ConfusionMatrixDisplay(cm, display_labels=model.classes_)\n",
        "cmd.plot()"
      ],
      "metadata": {
        "colab": {
          "base_uri": "https://localhost:8080/",
          "height": 540
        },
        "id": "PPG6FB9J1MvG",
        "outputId": "95e0fa7c-c0f8-44bc-b143-3c6b4e101478"
      },
      "execution_count": 11,
      "outputs": [
        {
          "output_type": "stream",
          "name": "stdout",
          "text": [
            "Accuracy: 0.5941626129256428\n",
            "F1 Score: 0.6257223814966127\n",
            "Precision: 0.7382213492409445\n",
            "Recall: 0.5941626129256428\n"
          ]
        },
        {
          "output_type": "execute_result",
          "data": {
            "text/plain": [
              "<sklearn.metrics._plot.confusion_matrix.ConfusionMatrixDisplay at 0x7e7a0e916b60>"
            ]
          },
          "metadata": {},
          "execution_count": 11
        },
        {
          "output_type": "display_data",
          "data": {
            "text/plain": [
              "<Figure size 640x480 with 2 Axes>"
            ],
            "image/png": "[encoded data removed]"
          },
          "metadata": {}
        }
      ]
    },
    {
      "cell_type": "code",
      "source": [
        "from sklearn.ensemble import RandomForestClassifier\n",
        "from sklearn.metrics import accuracy_score, f1_score, confusion_matrix, ConfusionMatrixDisplay,precision_score, recall_score\n",
        "import matplotlib.pyplot as plt\n",
        "\n",
        "# Create a Random Forest classifier\n",
        "clf = RandomForestClassifier(n_estimators=100, random_state=42,max_depth=10)\n",
        "\n",
        "# Training the model on the training dataset\n",
        "clf.fit(X_train, y_train)\n",
        "\n",
        "# Performing predictions on the test dataset\n",
        "y_pred = clf.predict(X_test)\n",
        "\n",
        "# Calculate accuracy and F1 score\n",
        "accuracy = accuracy_score(y_test, y_pred)\n",
        "f1 = f1_score(y_test, y_pred, average='weighted')\n",
        "precision = precision_score(y_pred, y_test, average=\"weighted\")\n",
        "recall = recall_score(y_pred, y_test, average=\"weighted\")\n",
        "\n",
        "# Print accuracy and F1 score\n",
        "print(f\"Accuracy of the model: {accuracy}\")\n",
        "print(f\"F1 Score of the model: {f1}\")\n",
        "print(\"Precision:\", precision)\n",
        "print(\"Recall:\", recall)\n",
        "\n",
        "\n",
        "# Generate and plot the confusion matrix\n",
        "cm = confusion_matrix(y_test, y_pred)\n",
        "cmd = ConfusionMatrixDisplay(cm, display_labels=clf.classes_)\n",
        "cmd.plot()\n",
        "plt.show()"
      ],
      "metadata": {
        "colab": {
          "base_uri": "https://localhost:8080/",
          "height": 522
        },
        "id": "2D_HIQ4l1Sas",
        "outputId": "0e84397f-0264-409f-8dc0-4a4ab0b635d4"
      },
      "execution_count": 12,
      "outputs": [
        {
          "output_type": "stream",
          "name": "stdout",
          "text": [
            "Accuracy of the model: 0.8763029881862404\n",
            "F1 Score of the model: 0.8760461959250017\n",
            "Precision: 0.8805023352705592\n",
            "Recall: 0.8763029881862404\n"
          ]
        },
        {
          "output_type": "display_data",
          "data": {
            "text/plain": [
              "<Figure size 640x480 with 2 Axes>"
            ],
            "image/png": "[encoded data removed]"
          },
          "metadata": {}
        }
      ]
    },
    {
      "cell_type": "code",
      "source": [
        "# Import the necessary library\n",
        "!pip install xgboost\n",
        "from xgboost import XGBClassifier\n",
        "from sklearn.metrics import classification_report, accuracy_score\n",
        "\n",
        "# Initialize the XGBoost classifier\n",
        "xgb_classifier = XGBClassifier(random_state=42)\n",
        "\n",
        "# Train the model\n",
        "xgb_classifier.fit(X_train, y_train)\n",
        "\n",
        "# Make predictions on the test set\n",
        "y_pred = xgb_classifier.predict(X_test)\n",
        "\n",
        "# Evaluate the model\n",
        "accuracy = accuracy_score(y_test, y_pred)\n",
        "print(\"Accuracy:\", accuracy)\n",
        "print(classification_report(y_test, y_pred))"
      ],
      "metadata": {
        "colab": {
          "base_uri": "https://localhost:8080/"
        },
        "id": "64r5MYJa1qFm",
        "outputId": "56610adc-a2db-4825-fcec-cc1e06bb40e4"
      },
      "execution_count": 13,
      "outputs": [
        {
          "output_type": "stream",
          "name": "stdout",
          "text": [
            "Requirement already satisfied: xgboost in /usr/local/lib/python3.10/dist-packages (2.1.0)\n",
            "Requirement already satisfied: numpy in /usr/local/lib/python3.10/dist-packages (from xgboost) (1.25.2)\n",
            "Requirement already satisfied: nvidia-nccl-cu12 in /usr/local/lib/python3.10/dist-packages (from xgboost) (2.22.3)\n",
            "Requirement already satisfied: scipy in /usr/local/lib/python3.10/dist-packages (from xgboost) (1.11.4)\n",
            "Accuracy: 0.9145239749826268\n",
            "              precision    recall  f1-score   support\n",
            "\n",
            "           0       0.96      0.86      0.91       720\n",
            "           1       0.87      0.97      0.92       719\n",
            "\n",
            "    accuracy                           0.91      1439\n",
            "   macro avg       0.92      0.91      0.91      1439\n",
            "weighted avg       0.92      0.91      0.91      1439\n",
            "\n"
          ]
        }
      ]
    },
    {
      "cell_type": "markdown",
      "source": [
        "<li> Step 5: For each of your selected models:\n",
        "<ul>Run with the default parameters using <b>cross-validation</b> on the whole dataset.</ul>\n",
        "<ul>Calculate precision, recall, and F1</ul>\n",
        "<ul>(Where possible) adjust 2-3 parameters for each model using grid search\n",
        "Report evaluation metrics for the best and worst-performing parameter settings</ul>\n",
        "</li>"
      ],
      "metadata": {
        "id": "mUgiiiSI40rS"
      }
    },
    {
      "cell_type": "markdown",
      "source": [
        "Random Forrest Classifier: K-means Crossfold Validation Training Data"
      ],
      "metadata": {
        "id": "qlSY02cp-uHk"
      }
    },
    {
      "cell_type": "code",
      "source": [
        "from sklearn.model_selection import cross_val_score, KFold\n",
        "from sklearn.svm import SVC\n",
        "from sklearn.metrics import make_scorer\n",
        "num_folds = 5\n",
        "kf = KFold(n_splits=num_folds, shuffle=True, random_state=42)\n",
        "cross_val_results = cross_val_score(clf, X_train, y_train, cv=kf)\n",
        "\n",
        "print(f'Cross-Validation Results (Accuracy): {cross_val_results}')\n",
        "print(f'Mean Accuracy: {cross_val_results.mean()}')\n",
        "# Custom scoring functions\n",
        "precision = cross_val_score(clf, X_train, y_train, cv=kf, scoring=make_scorer(precision_score, average='binary'))\n",
        "recall = cross_val_score(clf, X_train, y_train, cv=kf, scoring=make_scorer(recall_score, average='binary'))\n",
        "f1 = cross_val_score(clf, X_train, y_train, cv=kf, scoring=make_scorer(f1_score, average='binary'))\n",
        "\n",
        "# Print the results\n",
        "print(f'Cross-Validation Results (Precision): {precision}')\n",
        "print(f'Mean Precision: {precision.mean()}')\n",
        "\n",
        "print(f'Cross-Validation Results (Recall): {recall}')\n",
        "print(f'Mean Recall: {recall.mean()}')\n",
        "\n",
        "print(f'Cross-Validation Results (F1 Score): {f1}')\n",
        "print(f'Mean F1 Score: {f1.mean()}')"
      ],
      "metadata": {
        "colab": {
          "base_uri": "https://localhost:8080/"
        },
        "id": "54i5Cmi-55FB",
        "outputId": "2f71ae54-e593-4df4-a461-67861249787d"
      },
      "execution_count": 14,
      "outputs": [
        {
          "output_type": "stream",
          "name": "stdout",
          "text": [
            "Cross-Validation Results (Accuracy): [0.8748914  0.85838401 0.85317116 0.86       0.86695652]\n",
            "Mean Accuracy: 0.8626806179881388\n",
            "Cross-Validation Results (Precision): [0.8392283  0.83627608 0.81903276 0.83028286 0.84920635]\n",
            "Mean Precision: 0.8348052703401342\n",
            "Cross-Validation Results (Recall): [0.92226148 0.895189   0.9083045  0.89426523 0.90219224]\n",
            "Mean Recall: 0.9044424923226451\n",
            "Cross-Validation Results (F1 Score): [0.87878788 0.86473029 0.86136177 0.86108714 0.87489779]\n",
            "Mean F1 Score: 0.8681729755184483\n"
          ]
        }
      ]
    },
    {
      "cell_type": "markdown",
      "source": [
        "Random Forrest Classifier: K-means Crossfold Validation Testing Data"
      ],
      "metadata": {
        "id": "XGPKmyWe-1ar"
      }
    },
    {
      "cell_type": "code",
      "source": [
        "from sklearn.model_selection import cross_val_score, KFold\n",
        "from sklearn.svm import SVC\n",
        "from sklearn.metrics import make_scorer\n",
        "\n",
        "clf_model = clf.fit(X_train, y_train)\n",
        "num_folds = 5\n",
        "kf = KFold(n_splits=num_folds, shuffle=True, random_state=42)\n",
        "cross_val_results_test = cross_val_score(clf_model, X_test, y_test, cv=kf)\n",
        "\n",
        "print(f'Cross-Validation Results (Accuracy): {cross_val_results_test}')\n",
        "print(f'Mean Accuracy: {cross_val_results_test.mean()}')\n",
        "# Custom scoring functions\n",
        "precision_test = cross_val_score(clf_model, X_test, y_test, cv=kf, scoring=make_scorer(precision_score, average='binary'))\n",
        "recall_test = cross_val_score(clf_model, X_test, y_test, cv=kf, scoring=make_scorer(recall_score, average='binary'))\n",
        "f1_test = cross_val_score(clf_model, X_test, y_test, cv=kf, scoring=make_scorer(f1_score, average='binary'))\n",
        "\n",
        "# Print the results\n",
        "print(f'Cross-Validation Results (Precision): {precision_test}')\n",
        "print(f'Mean Precision: {precision_test.mean()}')\n",
        "\n",
        "print(f'Cross-Validation Results (Recall): {recall_test}')\n",
        "print(f'Mean Recall: {recall_test.mean()}')\n",
        "\n",
        "print(f'Cross-Validation Results (F1 Score): {f1_test}')\n",
        "print(f'Mean F1 Score: {f1_test.mean()}')"
      ],
      "metadata": {
        "colab": {
          "base_uri": "https://localhost:8080/"
        },
        "id": "li4JK-xM8dP2",
        "outputId": "330f8aeb-28d8-4fe2-aa42-2746d090cc55"
      },
      "execution_count": 23,
      "outputs": [
        {
          "output_type": "stream",
          "name": "stdout",
          "text": [
            "Cross-Validation Results (Accuracy): [0.76041667 0.76388889 0.69444444 0.74305556 0.73170732]\n",
            "Mean Accuracy: 0.7387025745257452\n",
            "Cross-Validation Results (Precision): [0.74172185 0.75903614 0.68794326 0.68292683 0.73202614]\n",
            "Mean Precision: 0.7207308468706878\n",
            "Cross-Validation Results (Recall): [0.78873239 0.81818182 0.68794326 0.8358209  0.75675676]\n",
            "Mean Recall: 0.7774870254477015\n",
            "Cross-Validation Results (F1 Score): [0.76450512 0.7875     0.68794326 0.75167785 0.74418605]\n",
            "Mean F1 Score: 0.7471624561451787\n"
          ]
        }
      ]
    },
    {
      "cell_type": "markdown",
      "source": [
        "XGB Classifier: Kmeans Cross-validation Training Data"
      ],
      "metadata": {
        "id": "I_BU-2SeAt1t"
      }
    },
    {
      "cell_type": "code",
      "source": [
        "from sklearn.model_selection import cross_val_score, KFold\n",
        "from sklearn.svm import SVC\n",
        "num_folds = 5\n",
        "cross_val_results_xgb_training = cross_val_score(xgb_classifier, X_train, y_train, cv=kf)\n",
        "\n",
        "print(f'Cross-Validation Results (Accuracy): {cross_val_results_xgb_training}')\n",
        "print(f'Mean Accuracy: {cross_val_results_xgb_training.mean()}')\n",
        "\n",
        "# Custom scoring functions\n",
        "precision_training_xgb = cross_val_score(xgb_classifier, X_train, y_train, cv=kf, scoring=make_scorer(precision_score, average='binary'))\n",
        "recall_training_xgb = cross_val_score(xgb_classifier, X_train, y_train, cv=kf, scoring=make_scorer(recall_score, average='binary'))\n",
        "f1_training_xgb = cross_val_score(xgb_classifier, X_train, y_train, cv=kf, scoring=make_scorer(f1_score, average='binary'))\n",
        "\n",
        "# Print the results\n",
        "print(f'Cross-Validation Results (Precision): {precision_training_xgb}')\n",
        "print(f'Mean Precision: {precision_training_xgb.mean()}')\n",
        "\n",
        "print(f'Cross-Validation Results (Recall): {recall_training_xgb}')\n",
        "print(f'Mean Recall: {recall_training_xgb.mean()}')\n",
        "\n",
        "print(f'Cross-Validation Results (F1 Score): {f1_training_xgb}')\n",
        "print(f'Mean F1 Score: {f1_training_xgb.mean()}')"
      ],
      "metadata": {
        "id": "KaN1XO4j_z9B",
        "colab": {
          "base_uri": "https://localhost:8080/"
        },
        "outputId": "1a93f4d0-8bd4-4ad2-b21e-328b02b81b6a"
      },
      "execution_count": 16,
      "outputs": [
        {
          "output_type": "stream",
          "name": "stdout",
          "text": [
            "Cross-Validation Results (Accuracy): [0.91659427 0.90790617 0.90443093 0.91826087 0.9173913 ]\n",
            "Mean Accuracy: 0.9129167075888642\n",
            "Cross-Validation Results (Precision): [0.87066246 0.86391437 0.85779817 0.88032787 0.88190184]\n",
            "Mean Precision: 0.870920941627476\n",
            "Cross-Validation Results (Recall): [0.97526502 0.97079038 0.97058824 0.96236559 0.96964587]\n",
            "Mean Recall: 0.9697310181664228\n",
            "Cross-Validation Results (F1 Score): [0.92       0.91423948 0.91071429 0.91952055 0.92369478]\n",
            "Mean F1 Score: 0.9176338189953208\n"
          ]
        }
      ]
    },
    {
      "cell_type": "markdown",
      "source": [
        "XGB Classifier: Kmeans Cross-validation Testing Data"
      ],
      "metadata": {
        "id": "imBultXg_hCJ"
      }
    },
    {
      "cell_type": "code",
      "source": [
        "from sklearn.model_selection import cross_val_score, KFold\n",
        "from sklearn.svm import SVC\n",
        "num_folds = 5\n",
        "xgb_classifier_model = xgb_classifier.fit(X_train, y_train)\n",
        "cross_val_results_xgb = cross_val_score(xgb_classifier_model, X_test, y_test, cv=kf)\n",
        "\n",
        "print(f'Cross-Validation Results (Accuracy): {cross_val_results_xgb}')\n",
        "print(f'Mean Accuracy: {cross_val_results_xgb.mean()}')\n",
        "\n",
        "# Custom scoring functions\n",
        "precision_test_xgb = cross_val_score(xgb_classifier_model, X_test, y_test, cv=kf, scoring=make_scorer(precision_score, average='binary'))\n",
        "recall_test_xgb = cross_val_score(xgb_classifier_model, X_test, y_test, cv=kf, scoring=make_scorer(recall_score, average='binary'))\n",
        "f1_test_xgb = cross_val_score(xgb_classifier_model, X_test, y_test, cv=kf, scoring=make_scorer(f1_score, average='binary'))\n",
        "\n",
        "# Print the results\n",
        "print(f'Cross-Validation Results (Precision): {precision_test_xgb}')\n",
        "print(f'Mean Precision: {precision_test_xgb.mean()}')\n",
        "\n",
        "print(f'Cross-Validation Results (Recall): {recall_test_xgb}')\n",
        "print(f'Mean Recall: {recall_test_xgb.mean()}')\n",
        "\n",
        "print(f'Cross-Validation Results (F1 Score): {f1_test_xgb}')\n",
        "print(f'Mean F1 Score: {f1_test_xgb.mean()}')"
      ],
      "metadata": {
        "id": "Lsf3RoNr7O2E",
        "colab": {
          "base_uri": "https://localhost:8080/"
        },
        "outputId": "3b38280e-2e1c-4560-a495-b256904e9dbf"
      },
      "execution_count": 24,
      "outputs": [
        {
          "output_type": "stream",
          "name": "stdout",
          "text": [
            "Cross-Validation Results (Accuracy): [0.74305556 0.77430556 0.73958333 0.74652778 0.75958188]\n",
            "Mean Accuracy: 0.7526108207510647\n",
            "Cross-Validation Results (Precision): [0.70481928 0.78343949 0.72916667 0.68047337 0.74534161]\n",
            "Mean Precision: 0.7286480843817715\n",
            "Cross-Validation Results (Recall): [0.82394366 0.7987013  0.74468085 0.85820896 0.81081081]\n",
            "Mean Recall: 0.8072691155543301\n",
            "Cross-Validation Results (F1 Score): [0.75974026 0.79099678 0.73684211 0.75907591 0.77669903]\n",
            "Mean F1 Score: 0.7646708172572614\n"
          ]
        }
      ]
    },
    {
      "cell_type": "markdown",
      "source": [
        "Adjust 2-3 Parameters Using Grid-Search"
      ],
      "metadata": {
        "id": "BZwxzZT_B31K"
      }
    },
    {
      "cell_type": "code",
      "source": [
        "from sklearn.model_selection import GridSearchCV"
      ],
      "metadata": {
        "id": "6kVVbHWNB9g4"
      },
      "execution_count": 18,
      "outputs": []
    },
    {
      "cell_type": "code",
      "source": [
        "\n",
        "\n",
        "# Define the function to get model parameters\n",
        "def get_model_params(model):\n",
        "    \"\"\"\n",
        "    This function takes a machine learning model as input and returns its parameters.\n",
        "\n",
        "    Parameters:\n",
        "    model (estimator): The machine learning model for which to retrieve the parameters.\n",
        "\n",
        "    Returns:\n",
        "    dict: A dictionary containing the parameters of the model.\n",
        "    \"\"\"\n",
        "    if hasattr(model, 'get_params'):\n",
        "        return model.get_params()\n",
        "    else:\n",
        "        raise ValueError(\"The provided model does not have a 'get_params' method.\")\n",
        "\n",
        "# Create a RandomForestClassifier instance\n",
        "clf = RandomForestClassifier(n_estimators=100, max_depth=2, random_state=42)\n",
        "\n",
        "# Get the parameters of the RandomForestClassifier instance\n",
        "params = get_model_params(clf)\n",
        "print(params)"
      ],
      "metadata": {
        "id": "mQYRYdy8Lfb8",
        "colab": {
          "base_uri": "https://localhost:8080/"
        },
        "outputId": "a3eeac11-2f05-47e7-d5ce-cf27a404be9b"
      },
      "execution_count": 1,
      "outputs": [
        {
          "output_type": "stream",
          "name": "stdout",
          "text": [
            "{'bootstrap': True, 'ccp_alpha': 0.0, 'class_weight': None, 'criterion': 'gini', 'max_depth': 2, 'max_features': 'sqrt', 'max_leaf_nodes': None, 'max_samples': None, 'min_impurity_decrease': 0.0, 'min_samples_leaf': 1, 'min_samples_split': 2, 'min_weight_fraction_leaf': 0.0, 'n_estimators': 100, 'n_jobs': None, 'oob_score': False, 'random_state': 42, 'verbose': 0, 'warm_start': False}\n"
          ]
        }
      ]
    },
    {
      "cell_type": "markdown",
      "source": [
        "Random Forrest Classifier: Evaluating Parameters"
      ],
      "metadata": {
        "id": "9LyBpTzGqWFv"
      }
    },
    {
      "cell_type": "code",
      "source": [
        "# Define the parameters to tune, based on the actual parameter result\n",
        "forest_params = {\n",
        "    'n_estimators': [50, 100, 200],\n",
        "    'max_depth': [None, 10, 20, 30],\n",
        "    'min_samples_split': [2, 5, 10],\n",
        "    'min_samples_leaf': [1, 2, 4],\n",
        "    'max_features': ['auto', 'sqrt', 'log2'],\n",
        "    'bootstrap': [True, False],\n",
        "    'criterion': ['gini', 'entropy'],\n",
        "    'class_weight': [None, 'balanced']\n",
        "}\n",
        "\n",
        "# Initialize the GridSearchCV object\n",
        "\n",
        "# Initialize GridSearchCV with the classifier and parameters\n",
        "clf_GridSearchCV = GridSearchCV(clf, forest_params, cv=10, scoring='precision',n_jobs=-1)\n",
        "\n",
        "# Assume X_train and y_train are already defined\n",
        "# Fit the model\n",
        "clf_GridSearchCV.fit(X_train, y_train)\n",
        "\n",
        "# Get the best parameters and the best score\n",
        "best_params = clf_GridSearchCV.best_params_\n",
        "best_score = clf_GridSearchCV.best_score_\n",
        "\n",
        "print(\"Best parameters found: \", best_params)\n",
        "print(\"Best precision score: \", best_score)\n",
        "\n",
        "# Retrieve and display the worst parameters and their score\n",
        "results = clf_GridSearchCV.cv_results_\n",
        "worst_index = results['mean_test_score'].argmin()\n",
        "worst_params = results['params'][worst_index]\n",
        "worst_score = results['mean_test_score'][worst_index]\n",
        "\n",
        "print(\"Worst parameters found: \", worst_params)\n",
        "print(\"Worst precision score: \", worst_score)"
      ],
      "metadata": {
        "id": "Mw1_HNm-NOxa",
        "colab": {
          "base_uri": "https://localhost:8080/"
        },
        "outputId": "1f834702-1309-4320-935a-0d3012d2a023"
      },
      "execution_count": 19,
      "outputs": [
        {
          "output_type": "stream",
          "name": "stdout",
          "text": [
            "Best parameters found:  {'bootstrap': False, 'class_weight': None, 'criterion': 'gini', 'max_depth': 30, 'max_features': 'log2', 'min_samples_leaf': 1, 'min_samples_split': 2, 'n_estimators': 50}\n",
            "Best precision score:  0.9755078903955485\n",
            "Worst parameters found:  {'bootstrap': True, 'class_weight': None, 'criterion': 'entropy', 'max_depth': 10, 'max_features': 'auto', 'min_samples_leaf': 4, 'min_samples_split': 10, 'n_estimators': 50}\n",
            "Worst precision score:  0.793134135923452\n"
          ]
        }
      ]
    },
    {
      "cell_type": "markdown",
      "source": [
        "Random Forrest Classifier: Parameter Tuning on Training Set"
      ],
      "metadata": {
        "id": "pVjre1QfkV7p"
      }
    },
    {
      "cell_type": "code",
      "source": [
        "clf_hypertune = RandomForestClassifier(n_estimators=50, random_state=42,max_depth=30,max_features='log2',min_samples_split=2)\n",
        "clf_hypertune_model = clf_hypertune.fit(X_train, y_train)\n",
        "from sklearn.model_selection import cross_val_score, KFold\n",
        "from sklearn.svm import SVC\n",
        "from sklearn.metrics import make_scorer\n",
        "num_folds = 5\n",
        "kf = KFold(n_splits=num_folds, shuffle=True, random_state=42)\n",
        "cross_val_results = cross_val_score(clf_hypertune, X_train, y_train, cv=kf)\n",
        "\n",
        "print(f'Cross-Validation Results (Accuracy): {cross_val_results}')\n",
        "print(f'Mean Accuracy: {cross_val_results.mean()}')\n",
        "# Custom scoring functions\n",
        "precision_hypertune = cross_val_score(clf_hypertune, X_train, y_train, cv=kf, scoring=make_scorer(precision_score, average='binary'))\n",
        "recall_hypertune = cross_val_score(clf_hypertune, X_train, y_train, cv=kf, scoring=make_scorer(recall_score, average='binary'))\n",
        "f1_hypertune = cross_val_score(clf_hypertune, X_train, y_train, cv=kf, scoring=make_scorer(f1_score, average='binary'))\n",
        "\n",
        "# Print the results\n",
        "print(f'Cross-Validation Results (Precision): {precision_hypertune}')\n",
        "print(f'Mean Precision: {precision_hypertune.mean()}')\n",
        "\n",
        "print(f'Cross-Validation Results (Recall): {recall_hypertune}')\n",
        "print(f'Mean Recall: {recall_hypertune.mean()}')\n",
        "\n",
        "print(f'Cross-Validation Results (F1 Score): {f1_hypertune}')\n",
        "print(f'Mean F1 Score: {f1_hypertune.mean()}')"
      ],
      "metadata": {
        "colab": {
          "base_uri": "https://localhost:8080/"
        },
        "id": "HfJJI15RjB_Y",
        "outputId": "41c1b04f-e5f2-436b-b7c3-8b3f3aa35b1b"
      },
      "execution_count": 21,
      "outputs": [
        {
          "output_type": "stream",
          "name": "stdout",
          "text": [
            "Cross-Validation Results (Accuracy): [0.95308427 0.94874023 0.93918332 0.96173913 0.95652174]\n",
            "Mean Accuracy: 0.9518537377705588\n",
            "Cross-Validation Results (Precision): [0.93097643 0.9184     0.9057508  0.94310345 0.94146341]\n",
            "Mean Precision: 0.9279388185216968\n",
            "Cross-Validation Results (Recall): [0.9770318  0.9862543  0.98096886 0.98028674 0.97639123]\n",
            "Mean Recall: 0.9801865850328394\n",
            "Cross-Validation Results (F1 Score): [0.95344828 0.95111848 0.94186047 0.96133568 0.95860927]\n",
            "Mean F1 Score: 0.9532744329372849\n"
          ]
        }
      ]
    },
    {
      "cell_type": "markdown",
      "source": [
        "Random Forrest Classifier: Parameter Tuning on Test Set"
      ],
      "metadata": {
        "id": "AMBgUD5FoEXg"
      }
    },
    {
      "cell_type": "code",
      "source": [
        "from sklearn.model_selection import cross_val_score, KFold\n",
        "from sklearn.svm import SVC\n",
        "from sklearn.metrics import make_scorer\n",
        "num_folds = 5\n",
        "kf = KFold(n_splits=num_folds, shuffle=True, random_state=42)\n",
        "cross_val_results = cross_val_score(clf_hypertune_model, X_test, y_test, cv=kf)\n",
        "\n",
        "print(f'Cross-Validation Results (Accuracy): {cross_val_results}')\n",
        "print(f'Mean Accuracy: {cross_val_results.mean()}')\n",
        "# Custom scoring functions\n",
        "precision_hypertune = cross_val_score(clf_hypertune_model, X_test, y_test, cv=kf, scoring=make_scorer(precision_score, average='binary'))\n",
        "recall_hypertune = cross_val_score(clf_hypertune_model, X_test, y_test, cv=kf, scoring=make_scorer(recall_score, average='binary'))\n",
        "f1_hypertune = cross_val_score(clf_hypertune_model, X_test, y_test, cv=kf, scoring=make_scorer(f1_score, average='binary'))\n",
        "\n",
        "# Print the results\n",
        "print(f'Cross-Validation Results (Precision): {precision_hypertune}')\n",
        "print(f'Mean Precision: {precision_hypertune.mean()}')\n",
        "\n",
        "print(f'Cross-Validation Results (Recall): {recall_hypertune}')\n",
        "print(f'Mean Recall: {recall_hypertune.mean()}')\n",
        "\n",
        "print(f'Cross-Validation Results (F1 Score): {f1_hypertune}')\n",
        "print(f'Mean F1 Score: {f1_hypertune.mean()}')"
      ],
      "metadata": {
        "colab": {
          "base_uri": "https://localhost:8080/"
        },
        "id": "cKQdfbtbkch6",
        "outputId": "1105345a-3daa-4655-c04a-e92fd4cd9cec"
      },
      "execution_count": 22,
      "outputs": [
        {
          "output_type": "stream",
          "name": "stdout",
          "text": [
            "Cross-Validation Results (Accuracy): [0.77777778 0.78125    0.69791667 0.76041667 0.73867596]\n",
            "Mean Accuracy: 0.7512074138598528\n",
            "Cross-Validation Results (Precision): [0.76       0.79354839 0.70149254 0.70186335 0.73856209]\n",
            "Mean Precision: 0.7390932739901485\n",
            "Cross-Validation Results (Recall): [0.8028169  0.7987013  0.66666667 0.84328358 0.76351351]\n",
            "Mean Recall: 0.7749963924758964\n",
            "Cross-Validation Results (F1 Score): [0.78082192 0.7961165  0.68363636 0.76610169 0.75083056]\n",
            "Mean F1 Score: 0.7555014091996518\n"
          ]
        }
      ]
    },
    {
      "cell_type": "markdown",
      "source": [
        "XGB Classifier: Evaluating Parameters"
      ],
      "metadata": {
        "id": "_tiTnxvboJpW"
      }
    },
    {
      "cell_type": "code",
      "source": [
        "# Define the function to get model parameters\n",
        "def get_model_params(model):\n",
        "    \"\"\"\n",
        "    This function takes a machine learning model as input and returns its parameters.\n",
        "\n",
        "    Parameters:\n",
        "    model (estimator): The machine learning model for which to retrieve the parameters.\n",
        "\n",
        "    Returns:\n",
        "    dict: A dictionary containing the parameters of the model.\n",
        "    \"\"\"\n",
        "    if hasattr(model, 'get_params'):\n",
        "        return model.get_params()\n",
        "    else:\n",
        "        raise ValueError(\"The provided model does not have a 'get_params' method.\")\n",
        "\n",
        "\n",
        "# Get the parameters of the RandomForestClassifier instance\n",
        "params = get_model_params(xgb_classifier)\n",
        "print(params)"
      ],
      "metadata": {
        "colab": {
          "base_uri": "https://localhost:8080/"
        },
        "id": "vIoc3Vq2oaes",
        "outputId": "9cc3ffda-95f2-4963-d961-1807a2ecc18e"
      },
      "execution_count": 25,
      "outputs": [
        {
          "output_type": "stream",
          "name": "stdout",
          "text": [
            "{'objective': 'binary:logistic', 'base_score': None, 'booster': None, 'callbacks': None, 'colsample_bylevel': None, 'colsample_bynode': None, 'colsample_bytree': None, 'device': None, 'early_stopping_rounds': None, 'enable_categorical': False, 'eval_metric': None, 'feature_types': None, 'gamma': None, 'grow_policy': None, 'importance_type': None, 'interaction_constraints': None, 'learning_rate': None, 'max_bin': None, 'max_cat_threshold': None, 'max_cat_to_onehot': None, 'max_delta_step': None, 'max_depth': None, 'max_leaves': None, 'min_child_weight': None, 'missing': nan, 'monotone_constraints': None, 'multi_strategy': None, 'n_estimators': None, 'n_jobs': None, 'num_parallel_tree': None, 'random_state': 42, 'reg_alpha': None, 'reg_lambda': None, 'sampling_method': None, 'scale_pos_weight': None, 'subsample': None, 'tree_method': None, 'validate_parameters': None, 'verbosity': None}\n"
          ]
        }
      ]
    },
    {
      "cell_type": "code",
      "source": [
        "forest_params = {\n",
        "    'max_depth': [None,3, 5, 7],\n",
        "    'learning_rate': [None,0.1, 0.01, 0.001],\n",
        "    'subsample': [None,0.5, 0.7, 1]\n",
        "}\n",
        "\n",
        "# Initialize GridSearchCV with the classifier and parameters\n",
        "xgb_classifier_GridSearchCV = GridSearchCV(xgb_classifier, forest_params, cv=10, scoring='precision')\n",
        "\n",
        "# Assume X_train and y_train are already defined\n",
        "# Fit the model\n",
        "xgb_classifier_GridSearchCV.fit(X_train, y_train)\n",
        "\n",
        "# Get the best parameters and the best score\n",
        "best_params = xgb_classifier_GridSearchCV.best_params_\n",
        "best_score = xgb_classifier_GridSearchCV.best_score_\n",
        "\n",
        "print(\"Best parameters found: \", best_params)\n",
        "print(\"Best precision score: \", best_score)\n",
        "\n",
        "# Retrieve and display the worst parameters and their score\n",
        "results = xgb_classifier_GridSearchCV.cv_results_\n",
        "worst_index = results['mean_test_score'].argmin()\n",
        "worst_params = results['params'][worst_index]\n",
        "worst_score = results['mean_test_score'][worst_index]\n",
        "\n",
        "print(\"Worst parameters found: \", worst_params)\n",
        "print(\"Worst precision score: \", worst_score)"
      ],
      "metadata": {
        "colab": {
          "base_uri": "https://localhost:8080/"
        },
        "id": "2iWMjw0EowWp",
        "outputId": "0399c0fc-f5cb-4495-a462-78b2fee44e19"
      },
      "execution_count": 28,
      "outputs": [
        {
          "output_type": "stream",
          "name": "stdout",
          "text": [
            "Best parameters found:  {'learning_rate': None, 'max_depth': 7, 'subsample': 0.7}\n",
            "Best precision score:  0.8964595139694488\n",
            "Worst parameters found:  {'learning_rate': 0.001, 'max_depth': 3, 'subsample': None}\n",
            "Worst precision score:  0.6517860452946895\n"
          ]
        }
      ]
    },
    {
      "cell_type": "markdown",
      "source": [
        "XGB Classifer: Parameter Tuning on Training Set"
      ],
      "metadata": {
        "id": "rXVtyj2YuXDM"
      }
    },
    {
      "cell_type": "code",
      "source": [
        "xgb_classifier_hypertune = XGBClassifier(random_state=42,learning_rate=None,max_depth=7, subsample = 0.7)\n",
        "xgb_classifier_hypertune_model = xgb_classifier_hypertune.fit(X_train, y_train)\n",
        "cross_val_results_xgb = cross_val_score(xgb_classifier_hypertune_model, X_train, y_train, cv=kf)\n",
        "\n",
        "print(f'Cross-Validation Results (Accuracy): {cross_val_results_xgb}')\n",
        "print(f'Mean Accuracy: {cross_val_results_xgb.mean()}')\n",
        "\n",
        "# Custom scoring functions\n",
        "precision_train_xgb = cross_val_score(xgb_classifier_hypertune_model, X_train, y_train, cv=kf, scoring=make_scorer(precision_score, average='binary'))\n",
        "recall_train_xgb = cross_val_score(xgb_classifier_hypertune_model, X_train, y_train, cv=kf, scoring=make_scorer(recall_score, average='binary'))\n",
        "f1_train_xgb = cross_val_score(xgb_classifier_hypertune_model, X_train, y_train, cv=kf, scoring=make_scorer(f1_score, average='binary'))\n",
        "\n",
        "# Print the results\n",
        "print(f'Cross-Validation Results (Precision): {precision_train_xgb}')\n",
        "print(f'Mean Precision: {precision_train_xgb.mean()}')\n",
        "\n",
        "print(f'Cross-Validation Results (Recall): {recall_train_xgb}')\n",
        "print(f'Mean Recall: {recall_train_xgb.mean()}')\n",
        "\n",
        "print(f'Cross-Validation Results (F1 Score): {f1_train_xgb}')\n",
        "print(f'Mean F1 Score: {f1_train_xgb.mean()}')"
      ],
      "metadata": {
        "colab": {
          "base_uri": "https://localhost:8080/"
        },
        "id": "AQw8Djz3uw8r",
        "outputId": "080ee76d-8199-47c9-c630-00129dffa801"
      },
      "execution_count": 31,
      "outputs": [
        {
          "output_type": "stream",
          "name": "stdout",
          "text": [
            "Cross-Validation Results (Accuracy): [0.91225022 0.9200695  0.92441355 0.9226087  0.93304348]\n",
            "Mean Accuracy: 0.9224770898651456\n",
            "Cross-Validation Results (Precision): [0.86499215 0.87461774 0.87711214 0.87400319 0.90062112]\n",
            "Mean Precision: 0.8782692661382463\n",
            "Cross-Validation Results (Recall): [0.97349823 0.98281787 0.98788927 0.98207885 0.97807757]\n",
            "Mean Recall: 0.9808723601407658\n",
            "Cross-Validation Results (F1 Score): [0.91604323 0.92556634 0.92921074 0.92489451 0.93775263]\n",
            "Mean F1 Score: 0.9266934901687429\n"
          ]
        }
      ]
    },
    {
      "cell_type": "markdown",
      "source": [
        "XGB Classifer: Parameter Tuning on Test Set"
      ],
      "metadata": {
        "id": "fW94NoX8wAkh"
      }
    },
    {
      "cell_type": "code",
      "source": [
        "cross_val_results_xgb_test = cross_val_score(xgb_classifier_hypertune_model, X_test, y_test, cv=kf)\n",
        "\n",
        "print(f'Cross-Validation Results (Accuracy): {cross_val_results_xgb_test}')\n",
        "print(f'Mean Accuracy: {cross_val_results_xgb_test.mean()}')\n",
        "\n",
        "# Custom scoring functions\n",
        "precision_test_xgb = cross_val_score(xgb_classifier_hypertune_model, X_test, y_test, cv=kf, scoring=make_scorer(precision_score, average='binary'))\n",
        "recall_test_xgb = cross_val_score(xgb_classifier_hypertune_model, X_test, y_test, cv=kf, scoring=make_scorer(recall_score, average='binary'))\n",
        "f1_test_xgb = cross_val_score(xgb_classifier_hypertune_model, X_test, y_test, cv=kf, scoring=make_scorer(f1_score, average='binary'))\n",
        "\n",
        "# Print the results\n",
        "print(f'Cross-Validation Results (Precision): {precision_test_xgb}')\n",
        "print(f'Mean Precision: {precision_test_xgb.mean()}')\n",
        "\n",
        "print(f'Cross-Validation Results (Recall): {recall_test_xgb}')\n",
        "print(f'Mean Recall: {recall_test_xgb.mean()}')\n",
        "\n",
        "print(f'Cross-Validation Results (F1 Score): {f1_test_xgb}')\n",
        "print(f'Mean F1 Score: {f1_test_xgb.mean()}')"
      ],
      "metadata": {
        "colab": {
          "base_uri": "https://localhost:8080/"
        },
        "id": "dRu0aMKasK7C",
        "outputId": "dfad6086-d47c-4663-a651-da905f7299d2"
      },
      "execution_count": 30,
      "outputs": [
        {
          "output_type": "stream",
          "name": "stdout",
          "text": [
            "Cross-Validation Results (Accuracy): [0.74305556 0.76736111 0.75694444 0.71180556 0.74216028]\n",
            "Mean Accuracy: 0.7442653890824623\n",
            "Cross-Validation Results (Precision): [0.71518987 0.78064516 0.7414966  0.64912281 0.73417722]\n",
            "Mean Precision: 0.7241263311109833\n",
            "Cross-Validation Results (Recall): [0.79577465 0.78571429 0.77304965 0.82835821 0.78378378]\n",
            "Mean Recall: 0.7933361143461377\n",
            "Cross-Validation Results (F1 Score): [0.75333333 0.78317152 0.75694444 0.72786885 0.75816993]\n",
            "Mean F1 Score: 0.7558976171825831\n"
          ]
        }
      ]
    }
  ]
}